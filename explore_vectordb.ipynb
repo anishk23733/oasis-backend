{
 "cells": [
  {
   "cell_type": "code",
   "execution_count": 2,
   "metadata": {},
   "outputs": [
    {
     "name": "stderr",
     "output_type": "stream",
     "text": [
      "/home/anish/experiments/oasis-backend/venv/lib/python3.11/site-packages/tqdm/auto.py:21: TqdmWarning: IProgress not found. Please update jupyter and ipywidgets. See https://ipywidgets.readthedocs.io/en/stable/user_install.html\n",
      "  from .autonotebook import tqdm as notebook_tqdm\n"
     ]
    }
   ],
   "source": [
    "from langchain_iris import IRISVector\n",
    "from langchain.embeddings import HuggingFaceEmbeddings\n",
    "\n",
    "# embeddings = HuggingFaceEmbeddings(model_name=\"all-mpnet-base-v2\")\n",
    "embeddings = HuggingFaceEmbeddings(model_name=\"msmarco-bert-base-dot-v5\")"
   ]
  },
  {
   "cell_type": "code",
   "execution_count": 3,
   "metadata": {},
   "outputs": [],
   "source": [
    "username = 'SUPERUSER'\n",
    "password = 'oasis' # Replace password with password you set \n",
    "hostname = 'localhost' \n",
    "port = '1972' \n",
    "namespace = 'USER'\n",
    "CONNECTION_STRING = f\"iris://{username}:{password}@{hostname}:{port}/{namespace}\"\n",
    "COLLECTION_NAME = \"vectordb\"\n",
    "\n",
    "db = IRISVector(\n",
    "    embedding_function=embeddings,\n",
    "    dimension=768,\n",
    "    # dimension=384,\n",
    "    collection_name=COLLECTION_NAME,\n",
    "    connection_string=CONNECTION_STRING,\n",
    ")"
   ]
  },
  {
   "cell_type": "code",
   "execution_count": 5,
   "metadata": {},
   "outputs": [
    {
     "name": "stdout",
     "output_type": "stream",
     "text": [
      "Score:  0.060451918420983\n",
      "{'value': '150,000 therms', 'metric': True, 'topic': 'E', 'description': 'Reduction in energy use in fiscal year 2018, due to the expansion of energy efficiency programs.', 'tags': ['energy efficiency'], 'id': '2019.106', 'year': '2019', 'company': 'Apple Inc.'}\n"
     ]
    }
   ],
   "source": [
    "query = \"Reductions in energy consumption.\"\n",
    "docs_with_score = db.similarity_search_with_score(\n",
    "    query, k=1, filter={'company': \"Apple Inc.\", \"metric\": True, \"topic\": \"E\"})\n",
    "\n",
    "doc, score = docs_with_score[0]\n",
    "\n",
    "print(\"Score: \", score)\n",
    "print(doc.metadata)"
   ]
  },
  {
   "cell_type": "code",
   "execution_count": null,
   "metadata": {},
   "outputs": [],
   "source": []
  }
 ],
 "metadata": {
  "kernelspec": {
   "display_name": "venv",
   "language": "python",
   "name": "python3"
  },
  "language_info": {
   "codemirror_mode": {
    "name": "ipython",
    "version": 3
   },
   "file_extension": ".py",
   "mimetype": "text/x-python",
   "name": "python",
   "nbconvert_exporter": "python",
   "pygments_lexer": "ipython3",
   "version": "3.11.5"
  }
 },
 "nbformat": 4,
 "nbformat_minor": 2
}
